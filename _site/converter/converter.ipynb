{
    "cells": [
        {
            "attachments": {},
            "cell_type": "markdown",
            "metadata": {},
            "source": [
                "# how to generate files"
            ]
        },
        {
            "attachments": {},
            "cell_type": "markdown",
            "metadata": {},
            "source": [
                "### - Download markdown of the person you want to add from Roam and add it to covert_files folder\n",
                "\n",
                "### - run this and fix file if needed"
            ]
        },
        {
            "cell_type": "code",
            "execution_count": 18,
            "metadata": {},
            "outputs": [],
            "source": [
                "import re\n",
                "\n",
                "def format_references(text):\n",
                "    return re.sub(r\"\\[(\\d+(?:,\\s*\\d+)*)\\]\", r'[[\\1]](#refs){:class=\"ref\"}', text)\n",
                "\n",
                "def format_names(text):\n",
                "    # Pattern to match names with optional birth/death years\n",
                "    # name_pattern = r\"([A-Z][a-z]+(?: [A-Z][a-z]+)*(\\s\\(\\d{4}(?:-\\d{4})?\\))?)\"\n",
                "    name_pattern = r\"([A-ZÀ-ÿ][a-zÀ-ÿ]+(?: [A-Z][a-z]+)*(\\s\\(\\d{4}(?:-\\d{4})?\\))?)\"\n",
                "    # Replace names with the formatted version (keeping the years)\n",
                "    formatted_text = re.sub(name_pattern, r'[\\1](){:class=\"underconstruction\"}', text)\n",
                "    return formatted_text\n",
                "\n",
                "def format_wedding_strings(text):\n",
                "    # Regex to capture the full name (including optional birth/death years) before a reference or comma\n",
                "    name_pattern = r\"^([\\wÀ-ÿ\\s]+(?:\\(\\d{4}(?:-\\d{4})?\\))?)\"\n",
                "\n",
                "    # Replace the matched name with the formatted version\n",
                "    formatted_text = re.sub(name_pattern, r'[\\1](){:class=\"underconstruction\"}', text)\n",
                "\n",
                "    return formatted_text\n",
                "\n",
                "def clean(text):\n",
                "  text = \" \".join(text.split())\n",
                "  text = text.replace(\"[[\", \"\")\n",
                "  text = text.replace(\"]]\", \"\")\n",
                "  text = text.replace(\"\\n\", \"\")\n",
                "  text = text.replace(\"*\", \"\")\n",
                "  return text\n",
                "\n",
                "def clean_dict(dictionary):\n",
                "  d = {}\n",
                "  for k, v in dictionary.items():\n",
                "    if v != {}:\n",
                "      d[k] = {}\n",
                "    if  isinstance(v, list):\n",
                "        d[k] = v\n",
                "    else:\n",
                "      for k2, v2 in v.items():\n",
                "        if v2:\n",
                "            d[k][k2] = v2\n",
                "  return d"
            ]
        },
        {
            "cell_type": "code",
            "execution_count": 19,
            "metadata": {},
            "outputs": [],
            "source": [
                "def read_lines(filename):\n",
                "    with open(f\"convert_files/{filename}\", 'r') as f:\n",
                "        lines = f.readlines()\n",
                "    lines = [clean(line) for line in lines if clean(line)!='']\n",
                "    return lines"
            ]
        },
        {
            "cell_type": "code",
            "execution_count": 20,
            "metadata": {},
            "outputs": [],
            "source": [
                "def extract_person_dict(lines):\n",
                "  person = {}\n",
                "  section=\"other\"\n",
                "  for i, line in enumerate(lines):\n",
                "      if \"###\" in line:\n",
                "          section = line.replace(\"- ### \",\"\")\n",
                "          if section == \"Vida\" or section == \"Documentos\":\n",
                "            person[section] = []\n",
                "          else:\n",
                "            person[section] = {}\n",
                "          pass\n",
                "      elif section == \"Vida\":\n",
                "        person[section].append(clean(line).replace(\"- \", \"\"))\n",
                "      elif section == \"Documentos\":\n",
                "        person[section].append(line)\n",
                "      elif \":\" in line:\n",
                "        vals = line.split(\":\")\n",
                "        # print(len(vals))\n",
                "        if (\"Morte\" == vals[0] and (clean(vals[1]) == 'DATA, LOCAL')) or (\"Sepultamento\" == vals[0] and (clean(vals[1]) == 'Cemitério de')):\n",
                "          person[section][vals[0]] = ''\n",
                "        elif \"Filhos\" in vals[0]:\n",
                "          filhos = []\n",
                "          for filho in lines[i+1:]:\n",
                "            if filho[0]==\"-\":\n",
                "              filhos.append(filho.replace(\"- \", \"\"))\n",
                "            else:\n",
                "              break\n",
                "          person[section][\"Filhos\"] = filhos\n",
                "        else:\n",
                "          person[section][vals[0]] = clean(\":\".join(vals[1:]))\n",
                "\n",
                "  person = clean_dict(person)\n",
                "  # display(person)\n",
                "  return person"
            ]
        },
        {
            "cell_type": "code",
            "execution_count": 21,
            "metadata": {},
            "outputs": [],
            "source": [
                "from datetime import date\n",
                "def create_header(name, dates):\n",
                "  timest = dates[0] if len(dates)>0 else \"????\"\n",
                "  timeend = dates[1] if len(dates)>1 else \"????\"\n",
                "  today = date.today().strftime(\"%d/%m/%Y\")\n",
                "  s = f\"---\\ntitle: \\'{name} ({timest}-{timeend})\\'\\ndata: {today}\\nnome: {name}\\nlayout: pessoa\\n---\\n\\n\"\n",
                "  return s\n",
                "\n",
                "def get_personal_data(personal_data):\n",
                "  lines = []\n",
                "  for k, v in personal_data.items():\n",
                "    if (k ==\"Pais\") or (k==\"Avós Paternos\") or (k==\"Avós Maternos\"):\n",
                "      text = format_names(v)\n",
                "      # text = v.split(\" e \")\n",
                "      line = f'**{k}:** {text}<br/>'\n",
                "      lines.append(line)\n",
                "    elif k ==\"Casamento\":\n",
                "      print(v)\n",
                "      text = format_wedding_strings(v)\n",
                "      # text = v.split(\",\")\n",
                "      # line = f'**{k}:** [{text[0]}](){{:class=\"underconstruction\"}}, {\",\".join(text[1:])}<br/>'\n",
                "      line = f'**{k}:** {text}<br/>'\n",
                "      lines.append(line)\n",
                "    elif k ==\"Filhos\":\n",
                "      line = f\"**{k}:**<br/>\"\n",
                "      lines.append(line)\n",
                "      # print(v)\n",
                "      for i, filho in enumerate(v):\n",
                "        filho = format_names(filho)\n",
                "        line = f'&nbsp;&nbsp;&nbsp;&nbsp;&nbsp;&nbsp;{i+1}. {filho}<br/>'\n",
                "        # line = f'&nbsp;&nbsp;&nbsp;&nbsp;&nbsp;&nbsp;{i+1}. [{filho}](){{:class=\"underconstruction\"}}<br/>'\n",
                "        lines.append(line)\n",
                "    else:\n",
                "      line = f\"**{k}:** {v}<br/>\"\n",
                "      lines.append(line)\n",
                "  return format_references(\"\\n\".join(lines))\n",
                "\n",
                "def get_life(vida):\n",
                "  nl = '\\n' \n",
                "  paragraphs = \"\\n\\n\".join(vida)\n",
                "  text = f\"{nl}{nl}## Vida:{nl}{nl}{paragraphs}{nl}\"\n",
                "  return text\n",
                "\n",
                "def get_refs(refs):\n",
                "  print(refs)\n",
                "  nl = '\\n' \n",
                "  paragraphs = \"\\n\\n\".join(refs)\n",
                "\n",
                "  text = f\"{nl}{nl}## Referências:  {{#refs}} {nl}{nl}{paragraphs}{nl}\"\n",
                "  return text"
            ]
        },
        {
            "cell_type": "code",
            "execution_count": 22,
            "metadata": {},
            "outputs": [
                {
                    "data": {
                        "text/plain": [
                            "['Vandoir Valter Scheuermann (1977).md']"
                        ]
                    },
                    "execution_count": 22,
                    "metadata": {},
                    "output_type": "execute_result"
                }
            ],
            "source": [
                "from os import listdir\n",
                "from os.path import isfile, join\n",
                "onlyfiles = [f for f in listdir(\"convert_files\") if (isfile(join(\"convert_files\", f)) and f !='.DS_Store')]\n",
                "onlyfiles"
            ]
        },
        {
            "cell_type": "code",
            "execution_count": 23,
            "metadata": {},
            "outputs": [],
            "source": [
                "def get_time_name(filename):\n",
                "  filename = filename.replace(\".md\", '')\n",
                "  times = re.findall(r'\\d+', filename)\n",
                "  name = \" \".join(re.sub(r'\\([^)]*\\)', '', filename).split())\n",
                "  return times, name\n"
            ]
        },
        {
            "cell_type": "code",
            "execution_count": 24,
            "metadata": {},
            "outputs": [],
            "source": [
                "def file_name_set(name, time):\n",
                "  name_aux = \"\".join(name.split())\n",
                "  date_aux = time[0] if len(time)>0 else \"\"\n",
                "  return f\"{name_aux}{date_aux}.md\"\n",
                "\n",
                "def save_file(name, time, person):\n",
                "  f = open(f\"converted/{file_name_set(name, time)}\", \"w\")\n",
                "  f.write(create_header(name, time))\n",
                "  f.write(get_personal_data(person[\"Dados Pessoais\"]))\n",
                "  f.write(get_life(person[\"Vida\"]))\n",
                "  f.write(get_refs(person[\"Documentos\"]))\n",
                "  f.close()"
            ]
        },
        {
            "cell_type": "code",
            "execution_count": 25,
            "metadata": {},
            "outputs": [
                {
                    "name": "stdout",
                    "output_type": "stream",
                    "text": [
                        "NOME, DATA, LOCAL\n",
                        "['[2] Certidão de Nascimento:  https://drive.google.com/file/d/1XSmChpkSkDXqid0IUOgzYKLz15nLHMT9/view?usp=sharing matrícula 08591 01 55 1977 1 0002 119 0001853 17 - Santa Helena', 'Registro de Batismo: ', 'Certidão de Casamento:', 'Certidão de Óbito: ', 'Outros:', '- [1] Informações providas por Vandoir Valter Scheuermann (1977)', 'Agradecimento: Vandoir Valter Scheuermann (1977)']\n"
                    ]
                }
            ],
            "source": [
                "for filename in onlyfiles:\n",
                "  times, name = get_time_name(filename)\n",
                "  lines = read_lines(filename)\n",
                "  person = extract_person_dict(lines)\n",
                "  save_file(name, times, person)\n"
            ]
        },
        {
            "cell_type": "code",
            "execution_count": 26,
            "metadata": {},
            "outputs": [
                {
                    "name": "stdout",
                    "output_type": "stream",
                    "text": [
                        "[Gilberto Rosa dos Santos ](){:class=\"underconstruction\"}[1], DATA, LOCAL\n",
                        "[Elvira Quinot (1914-1993)](){:class=\"underconstruction\"}[3], 18 de dezembro de 1937, Lajeado, Rio Grande do Sul, Brasil [2]\n",
                        "[João da Silva](){:class=\"underconstruction\"}, 12 de maio de 1950, Porto Alegre, RS\n",
                        "[Maria Fernanda Souza ](){:class=\"underconstruction\"}[4], 20 de junho de 1975, São Paulo, SP\n"
                    ]
                }
            ],
            "source": [
                "import re\n",
                "\n",
                "def format_wedding_strings(text):\n",
                "    # Regex to capture the full name (including optional birth/death years) before a reference or comma\n",
                "    name_pattern = r\"^([\\wÀ-ÿ\\s]+(?:\\(\\d{4}(?:-\\d{4})?\\))?)\"\n",
                "\n",
                "    # Replace the matched name with the formatted version\n",
                "    formatted_text = re.sub(name_pattern, r'[\\1](){:class=\"underconstruction\"}', text)\n",
                "\n",
                "    return formatted_text\n",
                "\n",
                "# Test cases\n",
                "test_cases = [\n",
                "    \"Gilberto Rosa dos Santos [1], DATA, LOCAL\",\n",
                "    \"Elvira Quinot (1914-1993)[3], 18 de dezembro de 1937, Lajeado, Rio Grande do Sul, Brasil [2]\",\n",
                "    \"João da Silva, 12 de maio de 1950, Porto Alegre, RS\",\n",
                "    \"Maria Fernanda Souza [4], 20 de junho de 1975, São Paulo, SP\"\n",
                "]\n",
                "\n",
                "for text in test_cases:\n",
                "    print(format_wedding_strings(text))\n"
            ]
        },
        {
            "cell_type": "code",
            "execution_count": 27,
            "metadata": {},
            "outputs": [],
            "source": [
                "# FOLHA = \"6\"\n",
                "# NUM = \"9\"\n",
                "# LINK = \"https://drive.google.com/file/d/11alIGA7qSWr9gIa5GBm4zfa3JhQ1NJi1/view?usp=sharing\"\n",
                "# DATA = \"11 janeiro 2025\"\n",
                "# print(F\"Registro de Casamento da Paróquia Evangélica de Conventos, Livro 1914-1935 Folha {FOLHA} Num. {NUM}. Acervo Pessoal. Disponível em: [{LINK}]({LINK}). Acesso em: {DATA}.\")"
            ]
        },
        {
            "cell_type": "code",
            "execution_count": 28,
            "metadata": {},
            "outputs": [
                {
                    "data": {
                        "text/plain": [
                            "'25 March/2025'"
                        ]
                    },
                    "execution_count": 28,
                    "metadata": {},
                    "output_type": "execute_result"
                }
            ],
            "source": [
                "date.today().strftime(\"%d %B/%Y\")"
            ]
        },
        {
            "cell_type": "code",
            "execution_count": null,
            "metadata": {},
            "outputs": [],
            "source": []
        },
        {
            "cell_type": "code",
            "execution_count": 29,
            "metadata": {},
            "outputs": [
                {
                    "data": {
                        "text/plain": [
                            "'25 de março de 2025'"
                        ]
                    },
                    "execution_count": 29,
                    "metadata": {},
                    "output_type": "execute_result"
                }
            ],
            "source": [
                "# from babel.dates import dateformat\n",
                "from babel.dates import format_date, format_datetime, format_time\n",
                "\n",
                "format_date(date.today(), format=\"long\", locale=\"pt_BR\")\n",
                "format_date(date.today(), \"dd 'de' MMMM 'de' YYYY\", locale=\"pt_BR\")\n",
                "# \"EEE, MMM d, ''yy"
            ]
        },
        {
            "cell_type": "code",
            "execution_count": 30,
            "metadata": {},
            "outputs": [],
            "source": [
                "from datetime import date\n",
                "\n",
                "DATE = format_date(date.today(), \"dd 'de' MMMM 'de' YYYY\", locale=\"pt_BR\")\n",
                "\n",
                "def format_reg_civil_reference(doc_details):\n",
                "    matricula = f' Número de Matrícula: {doc_details[\"matricula\"]}.' if  doc_details[\"matricula\"] else ''\n",
                "    link = f' Disponível em: [{doc_details[\"link\"]}]({doc_details[\"link\"]}). Acesso em: {DATE}.' if  doc_details[\"link\"] else ' Entrar em contato.'\n",
                "    is_acervo = f' Acervo Pessoal.' if {doc_details[\"is_acervo\"]} else ''\n",
                "    return f'''[XX] Registro de {doc_details[\"type\"]}. Registro Civíl de Pessoas Naturais - {doc_details[\"place\"]}. Ano {doc_details[\"year\"]}. Livro {doc_details[\"book\"]}, Folha {doc_details[\"page\"]}, Num. {doc_details[\"number\"]}.{matricula}{is_acervo}{link}'''\n",
                "\n",
                "\n",
                "def format_reg_religioso(doc_details):\n",
                "    link = f' Disponível em: [{doc_details[\"link\"]}]({doc_details[\"link\"]}). Acesso em: {DATE}.' if  doc_details[\"link\"] else ' Entrar em contato.'\n",
                "    is_acervo = f' Acervo Pessoal.' if {doc_details[\"is_acervo\"]} else ''\n",
                "    return f\"[XX] Registro de {doc_details['type']}. {doc_details['church']}, Livro {doc_details['yearbook']}, Página {doc_details['page']}, Num. {doc_details['number']}. {is_acervo}{link}\""
            ]
        },
        {
            "cell_type": "code",
            "execution_count": 31,
            "metadata": {},
            "outputs": [
                {
                    "name": "stdout",
                    "output_type": "stream",
                    "text": [
                        "[XX] Registro de Batismo. Paróquia Evangélica de Conventos - Moinho, Livro 1942-1950, Página 54, Num. 39.  Acervo Pessoal. Disponível em: [https://drive.google.com/file/d/18lCoTHJyY0-Xx0ek6gYc4X_JGAvH17ZQ/view?usp=sharing](https://drive.google.com/file/d/18lCoTHJyY0-Xx0ek6gYc4X_JGAvH17ZQ/view?usp=sharing). Acesso em: 25 de março de 2025.\n"
                    ]
                }
            ],
            "source": [
                "doc_details = {\n",
                "    \"type\": \"Casamento\", # Batismo | \"Óbito\" | Casamento\n",
                "    \"church\": \"Comunidade Evangélica de Conventos\",\n",
                "    \"yearbook\": \"xx-xx\",\n",
                "    \"page\": \"xx\",\n",
                "    \"number\": \"xx\",\n",
                "    \"link\": \"xxxx\",\n",
                "    \"is_acervo\": True\n",
                "}\n",
                "\n",
                "doc_details = {\n",
                "    \"type\": \"Batismo\", # Batismo | \"Óbito\" | Casamento\n",
                "    \"church\": \"Paróquia Evangélica de Conventos - Moinho\",\n",
                "    \"yearbook\": \"1942-1950\",\n",
                "    \"page\": \"54\",\n",
                "    \"number\": \"39\",\n",
                "    \"link\": \"https://drive.google.com/file/d/18lCoTHJyY0-Xx0ek6gYc4X_JGAvH17ZQ/view?usp=sharing\",\n",
                "    \"is_acervo\": True\n",
                "}\n",
                "print(format_reg_religioso(doc_details))"
            ]
        },
        {
            "cell_type": "code",
            "execution_count": 32,
            "metadata": {},
            "outputs": [
                {
                    "name": "stdout",
                    "output_type": "stream",
                    "text": [
                        "[XX] Registro de Casamento. Registro Civíl de Pessoas Naturais - Arroio do meio, Rio grande do Sul, Brasil. Ano 1964. Livro B-13, Folha 51v, Num. 3169. Acervo Pessoal. Entrar em contato.\n"
                    ]
                }
            ],
            "source": [
                "# doc_details = {\n",
                "#     \"type\": \"Nascimento\", # \"Óbito\" | Casamento\n",
                "#     \"place\": \"Lajeado, Rio Grande do Sul, Brasil\",\n",
                "#     \"year\": \"2023\",\n",
                "#     \"book\": \"A-27\",\n",
                "#     \"page\": \"33v\",\n",
                "#     \"number\": \"2341\",\n",
                "#     \"matricula\": None,\n",
                "#     \"link\": None,\n",
                "#     \"is_acervo\": True\n",
                "# }\n",
                "\n",
                "# Certidão de Nascimento:  https://drive.google.com/file/d/1PlVxahRjPvcm9YIz_Yg6Hr9tTvyIdrUL/view?usp=sharing A-19 flhas 193 14579 - Santa Helena\n",
                "\n",
                "doc_details = {\n",
                "    \"type\": \"Casamento\", # Nascimento | \"Óbito\" | Casamento\n",
                "    \"place\": \"Arroio do meio, Rio grande do Sul, Brasil\",\n",
                "    \"year\": \"1964\",\n",
                "    \"book\": \"B-13\",\n",
                "    \"page\": \"51v\",\n",
                "    \"number\": \"3169\",\n",
                "    \"matricula\": None,\n",
                "    \"link\": None, #\"https://drive.google.com/file/d/1h9o-KLgYFo0f4XB6NmZyhwBQVfdzZj9F/view?usp=sharing\",\n",
                "    \"is_acervo\": True\n",
                "}\n",
                "print(format_reg_civil_reference(doc_details))"
            ]
        },
        {
            "cell_type": "code",
            "execution_count": 33,
            "metadata": {},
            "outputs": [
                {
                    "data": {
                        "text/plain": [
                            "76"
                        ]
                    },
                    "execution_count": 33,
                    "metadata": {},
                    "output_type": "execute_result"
                }
            ],
            "source": [
                "len(\"After time/date selected – No refunds or cancellations allowed after booking\")"
            ]
        },
        {
            "cell_type": "code",
            "execution_count": null,
            "metadata": {},
            "outputs": [],
            "source": []
        }
    ],
    "metadata": {
        "kernelspec": {
            "display_name": "base",
            "language": "python",
            "name": "python3"
        },
        "language_info": {
            "codemirror_mode": {
                "name": "ipython",
                "version": 3
            },
            "file_extension": ".py",
            "mimetype": "text/x-python",
            "name": "python",
            "nbconvert_exporter": "python",
            "pygments_lexer": "ipython3",
            "version": "3.10.10"
        },
        "orig_nbformat": 4
    },
    "nbformat": 4,
    "nbformat_minor": 2
}
